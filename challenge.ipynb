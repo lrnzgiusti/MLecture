{
 "cells": [
  {
   "cell_type": "code",
   "execution_count": 1,
   "metadata": {},
   "outputs": [],
   "source": [
    "import time\n",
    "cycle_time = time.time() #inizio a contare il tempo d' esecuzione\n",
    "import pandas as pd\n",
    "import numpy as np\n",
    "from sklearn.ensemble import RandomForestClassifier, AdaBoostClassifier\n",
    "from sklearn.neural_network import MLPClassifier\n",
    "from sklearn.svm import SVC\n",
    "from sklearn.naive_bayes import GaussianNB\n",
    "from sklearn.tree import DecisionTreeClassifier\n",
    "from sklearn.model_selection import train_test_split\n",
    "from multiprocessing import Process\n"
   ]
  },
  {
   "cell_type": "code",
   "execution_count": 2,
   "metadata": {},
   "outputs": [],
   "source": [
    "df = pd.read_csv('filled_age.csv') #apro il nuovo dataframe\n",
    "df = df.drop(df.columns[0], axis=1) #rimuovo il vecchio indice"
   ]
  },
  {
   "cell_type": "markdown",
   "metadata": {},
   "source": [
    "## Utilizzo una funzione per allenare in parallelo i classificatori"
   ]
  },
  {
   "cell_type": "code",
   "execution_count": 3,
   "metadata": {},
   "outputs": [],
   "source": [
    "def runInParallel(*fns):\n",
    "    proc = []\n",
    "    for fn in fns:\n",
    "        p = Process(target=fn)\n",
    "        p.start()\n",
    "        proc.append(p)\n",
    "    for p in proc:\n",
    "        p.join()"
   ]
  },
  {
   "cell_type": "code",
   "execution_count": 4,
   "metadata": {},
   "outputs": [],
   "source": [
    "train, test = train_test_split(df, test_size=0.2)"
   ]
  },
  {
   "cell_type": "code",
   "execution_count": 5,
   "metadata": {},
   "outputs": [],
   "source": [
    "label_train = train['Survived']\n",
    "label_test = test['Survived']\n",
    "train = train.drop('Survived', axis=1)\n",
    "test = test.drop('Survived', axis=1)"
   ]
  },
  {
   "cell_type": "code",
   "execution_count": 6,
   "metadata": {},
   "outputs": [],
   "source": [
    "def fitModelandScore(model, data, label, x, y):\n",
    "    print(model.fit(data,label).score(x,y)*100)\n"
   ]
  },
  {
   "cell_type": "code",
   "execution_count": 7,
   "metadata": {},
   "outputs": [],
   "source": [
    "for_cla = RandomForestClassifier(n_estimators=300, n_jobs=-1)\n",
    "nn = MLPClassifier(hidden_layer_sizes=(20,20,20), alpha=0.001, max_iter=2500, activation='relu')\n",
    "nn_bin = MLPClassifier(hidden_layer_sizes=(20,20,20), alpha=0.001, max_iter=2500, activation='logistic', solver='sgd', learning_rate_init=0.01,\n",
    "                       )\n",
    "sv = SVC(C=1, gamma=0.1, kernel='rbf')\n",
    "gnb = GaussianNB()\n",
    "ada = AdaBoostClassifier(n_estimators=300, learning_rate=0.01)"
   ]
  },
  {
   "cell_type": "code",
   "execution_count": 8,
   "metadata": {},
   "outputs": [
    {
     "name": "stdout",
     "output_type": "stream",
     "text": [
      "81.5642458101\n",
      "79.3296089385\n",
      "81.5642458101\n",
      "78.7709497207\n",
      "78.7709497207\n",
      "62.5698324022\n"
     ]
    }
   ],
   "source": [
    "runInParallel(fitModelandScore(for_cla, train, label_train, test, label_test),\n",
    "              fitModelandScore(nn, train, label_train, test, label_test),\n",
    "              fitModelandScore(sv, train, label_train, test, label_test),\n",
    "              fitModelandScore(gnb, train, label_train, test, label_test),\n",
    "              fitModelandScore(ada, train, label_train, test, label_test),\n",
    "              fitModelandScore(nn_bin, train, label_train, test, label_test),)"
   ]
  },
  {
   "cell_type": "code",
   "execution_count": null,
   "metadata": {
    "collapsed": true
   },
   "outputs": [],
   "source": []
  }
 ],
 "metadata": {
  "kernelspec": {
   "display_name": "Python 3",
   "language": "python",
   "name": "python3"
  },
  "language_info": {
   "codemirror_mode": {
    "name": "ipython",
    "version": 3
   },
   "file_extension": ".py",
   "mimetype": "text/x-python",
   "name": "python",
   "nbconvert_exporter": "python",
   "pygments_lexer": "ipython3",
   "version": "3.6.4"
  }
 },
 "nbformat": 4,
 "nbformat_minor": 2
}
