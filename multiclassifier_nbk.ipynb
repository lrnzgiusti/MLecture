{
 "cells": [
  {
   "cell_type": "code",
   "execution_count": 5,
   "metadata": {},
   "outputs": [],
   "source": [
    "import time\n",
    "cycle_time = time.time() #inizio a contare il tempo d' esecuzione\n",
    "import pandas as pd\n",
    "import numpy as np\n",
    "from multiprocessing import Process\n",
    "from sklearn.model_selection import train_test_split\n",
    "from sklearn.neural_network import MLPClassifier\n",
    "from sklearn.neighbors import KNeighborsClassifier\n",
    "from sklearn.svm import SVC\n",
    "from sklearn.gaussian_process import GaussianProcessClassifier\n",
    "from sklearn.gaussian_process.kernels import RBF\n",
    "from sklearn.tree import DecisionTreeClassifier\n",
    "from sklearn.ensemble import RandomForestClassifier, AdaBoostClassifier\n",
    "from sklearn.naive_bayes import GaussianNB\n",
    "from sklearn.discriminant_analysis import QuadraticDiscriminantAnalysis"
   ]
  },
  {
   "cell_type": "code",
   "execution_count": 6,
   "metadata": {},
   "outputs": [],
   "source": [
    "df = pd.read_csv('filled_age.csv') #apro il nuovo dataframe\n",
    "df = df.drop(df.columns[0], axis=1) #rimuovo il vecchio indice"
   ]
  },
  {
   "cell_type": "code",
   "execution_count": 7,
   "metadata": {},
   "outputs": [],
   "source": [
    "def runInParallel(*fns):\n",
    "    proc = []\n",
    "    for fn in fns:\n",
    "        p = Process(target=fn)\n",
    "        p.start()\n",
    "        proc.append(p)\n",
    "    for p in proc:\n",
    "        p.join()"
   ]
  },
  {
   "cell_type": "code",
   "execution_count": 8,
   "metadata": {},
   "outputs": [],
   "source": [
    "train, test = train_test_split(df, test_size=0.2)"
   ]
  },
  {
   "cell_type": "code",
   "execution_count": 9,
   "metadata": {},
   "outputs": [],
   "source": [
    "label_train = train['Survived']\n",
    "label_test = test['Survived']\n",
    "train = train.drop('Survived', axis=1)\n",
    "test = test.drop('Survived', axis=1)"
   ]
  },
  {
   "cell_type": "code",
   "execution_count": 10,
   "metadata": {},
   "outputs": [],
   "source": [
    "def fitModelandScore(model, data, label, x, y):\n",
    "    print(model.fit(data,label).score(x,y)*100)"
   ]
  },
  {
   "cell_type": "code",
   "execution_count": 13,
   "metadata": {},
   "outputs": [],
   "source": [
    "a = KNeighborsClassifier(3)\n",
    "b = SVC(kernel=\"linear\", C=0.025)\n",
    "c = SVC(gamma=2, C=1)\n",
    "d = GaussianProcessClassifier(1.0 * RBF(1.0))\n",
    "e = DecisionTreeClassifier(max_depth=5)\n",
    "f = RandomForestClassifier(max_depth=5, n_estimators=10, max_features=1)\n",
    "g = MLPClassifier(alpha=0.001, max_iter=1500)\n",
    "h = AdaBoostClassifier()\n",
    "i = GaussianNB()\n",
    "j = QuadraticDiscriminantAnalysis()"
   ]
  },
  {
   "cell_type": "code",
   "execution_count": null,
   "metadata": {},
   "outputs": [
    {
     "name": "stdout",
     "output_type": "stream",
     "text": [
      "76.5363128492\n",
      "78.2122905028\n",
      "82.6815642458\n"
     ]
    }
   ],
   "source": [
    "runInParallel(fitModelandScore(a, train, label_train, test, label_test),\n",
    "              fitModelandScore(b, train, label_train, test, label_test),\n",
    "              fitModelandScore(c, train, label_train, test, label_test),\n",
    "              fitModelandScore(d, train, label_train, test, label_test),\n",
    "              fitModelandScore(e, train, label_train, test, label_test),\n",
    "              fitModelandScore(f, train, label_train, test, label_test),\n",
    "              fitModelandScore(g, train, label_train, test, label_test),\n",
    "              fitModelandScore(h, train, label_train, test, label_test),\n",
    "              fitModelandScore(i, train, label_train, test, label_test),\n",
    "              fitModelandScore(j, train, label_train, test, label_test))"
   ]
  },
  {
   "cell_type": "markdown",
   "metadata": {},
   "source": [
    "## "
   ]
  }
 ],
 "metadata": {
  "kernelspec": {
   "display_name": "Python 3",
   "language": "python",
   "name": "python3"
  },
  "language_info": {
   "codemirror_mode": {
    "name": "ipython",
    "version": 3
   },
   "file_extension": ".py",
   "mimetype": "text/x-python",
   "name": "python",
   "nbconvert_exporter": "python",
   "pygments_lexer": "ipython3",
   "version": "3.6.4"
  }
 },
 "nbformat": 4,
 "nbformat_minor": 2
}
